{
 "cells": [
  {
   "cell_type": "markdown",
   "metadata": {},
   "source": [
    "## RD900 analysis\n",
    "\n",
    "This is to keep mtb/bovis with Complete Genome/Chromosome"
   ]
  },
  {
   "cell_type": "code",
   "execution_count": 81,
   "metadata": {},
   "outputs": [],
   "source": [
    "import pandas as pd\n",
    "import re"
   ]
  },
  {
   "cell_type": "code",
   "execution_count": 101,
   "metadata": {},
   "outputs": [
    {
     "data": {
      "text/plain": [
       "mtb           6390\n",
       "bovis           70\n",
       "BCG             37\n",
       "africanum       31\n",
       "marinum         25\n",
       "H37Rv            9\n",
       "canettii         9\n",
       "CDC              7\n",
       "ulcerans         7\n",
       "microti          3\n",
       "pinnipedii       3\n",
       "H37Ra            3\n",
       "caprae           3\n",
       "Name: species, dtype: int64"
      ]
     },
     "execution_count": 101,
     "metadata": {},
     "output_type": "execute_result"
    }
   ],
   "source": [
    "asm = pd.read_csv('mtb_assemblies.csv')\n",
    "edata = pd.read_csv('elena_data.csv')\n",
    "asm.species.value_counts()"
   ]
  },
  {
   "cell_type": "code",
   "execution_count": 124,
   "metadata": {},
   "outputs": [
    {
     "name": "stdout",
     "output_type": "stream",
     "text": [
      "449\n",
      "PRJNA407834    68\n",
      "PRJNA222494    25\n",
      "PRJNA422870    16\n",
      "PRJNA414948    14\n",
      "PRJEB8560      14\n",
      "               ..\n",
      "PRJNA203176     1\n",
      "PRJNA211648     1\n",
      "PRJNA203168     1\n",
      "PRJNA211702     1\n",
      "PRJNA329548     1\n",
      "Name: BioProject, Length: 277, dtype: int64\n"
     ]
    }
   ],
   "source": [
    "edata.columns\n",
    "asm.loc[(asm['Level'] == 'Complete Genome') & (asm['Organism_Name'] == 'Mycobacterium tuberculosis variant bovis')]\n",
    "\n",
    "new_asm = asm.loc[(asm['Level'].str.contains('Complete|Chromosome')) \n",
    "                  | (~asm['species'].str.contains('bovis|mtb'))]\n",
    "\n",
    "new_asm = new_asm.reset_index(drop = True)\n",
    "new_asm.head(15)\n",
    "print (len(new_asm))\n",
    "new_asm.species.value_counts()\n",
    "new_asm.to_csv('new_filtered_asm.csv')\n",
    "print (new_asm.BioProject.value_counts())\n",
    "#print (new_asm.name.value_counts())"
   ]
  },
  {
   "cell_type": "code",
   "execution_count": 114,
   "metadata": {},
   "outputs": [
    {
     "name": "stdout",
     "output_type": "stream",
     "text": [
      "137\n"
     ]
    }
   ],
   "source": [
    "sp = ['bovis','mtb']\n",
    "x = asm[~asm.species.isin(sp)]\n",
    "print (len(x))"
   ]
  },
  {
   "cell_type": "code",
   "execution_count": 84,
   "metadata": {},
   "outputs": [
    {
     "data": {
      "text/plain": [
       "Index(['Organism_Name', 'Strain', 'CladeID', 'BioSample', 'BioProject',\n",
       "       'Group', 'SubGroup', 'Assembly', 'Size (Mb)', 'GC%', 'Replicons', 'WGS',\n",
       "       'Scaffolds', 'Genes', 'Proteins', 'Release Date', 'Modify Date',\n",
       "       'Level', 'RefSeq FTP', 'GenBank FTP', 'species'],\n",
       "      dtype='object')"
      ]
     },
     "execution_count": 84,
     "metadata": {},
     "output_type": "execute_result"
    }
   ],
   "source": [
    "asm.columns"
   ]
  },
  {
   "cell_type": "code",
   "execution_count": 35,
   "metadata": {},
   "outputs": [
    {
     "data": {
      "text/plain": [
       "mtb           6390\n",
       "bovis           70\n",
       "BCG             37\n",
       "africanum       31\n",
       "marinum         25\n",
       "H37Rv            9\n",
       "canettii         9\n",
       "CDC              7\n",
       "ulcerans         7\n",
       "microti          3\n",
       "pinnipedii       3\n",
       "H37Ra            3\n",
       "caprae           3\n",
       "Name: species, dtype: int64"
      ]
     },
     "execution_count": 35,
     "metadata": {},
     "output_type": "execute_result"
    }
   ],
   "source": [
    "df.species.value_counts()"
   ]
  },
  {
   "cell_type": "code",
   "execution_count": null,
   "metadata": {},
   "outputs": [],
   "source": [
    "print (asm.iloc[0])\n",
    "print (asm.Level.value_counts())"
   ]
  },
  {
   "cell_type": "code",
   "execution_count": null,
   "metadata": {},
   "outputs": [],
   "source": []
  }
 ],
 "metadata": {
  "kernelspec": {
   "display_name": "Python 3",
   "language": "python",
   "name": "python3"
  },
  "language_info": {
   "codemirror_mode": {
    "name": "ipython",
    "version": 3
   },
   "file_extension": ".py",
   "mimetype": "text/x-python",
   "name": "python",
   "nbconvert_exporter": "python",
   "pygments_lexer": "ipython3",
   "version": "3.6.8"
  }
 },
 "nbformat": 4,
 "nbformat_minor": 2
}
